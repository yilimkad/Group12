{
 "cells": [
  {
   "cell_type": "code",
   "execution_count": 1,
   "metadata": {},
   "outputs": [],
   "source": [
    "import pandas as pd\n",
    "import numpy as np\n",
    "from matplotlib import pyplot as plt\n",
    "from datetime import datetime as dt\n",
    "from datetime import date\n",
    "from pandas.tseries.holiday import USFederalHolidayCalendar\n",
    "from pandas.tseries.offsets import CustomBusinessDay\n",
    "from dateutil.relativedelta import relativedelta\n",
    "import os\n",
    "import itertools as it\n",
    "import _pickle as cPickle\n",
    "import gc\n",
    "import sys\n",
    "from statistics import mode\n",
    "\n",
    "pd.set_option('display.max_columns', 100)\n",
    "pd.set_option('display.max_rows', 100)\n",
    "\n",
    "old_err_state = np.seterr(divide='raise')\n",
    "ignored_states = np.seterr(**old_err_state)"
   ]
  },
  {
   "cell_type": "code",
   "execution_count": 2,
   "metadata": {},
   "outputs": [],
   "source": [
    "def load_cpickle_gc(filename):\n",
    "    file_Name = filename\n",
    "    output = open(file_Name, 'rb')\n",
    "\n",
    "    gc.disable()\n",
    "\n",
    "    mydict = cPickle.load(output)\n",
    "\n",
    "    gc.enable()\n",
    "    output.close()\n",
    "    return mydict"
   ]
  },
  {
   "cell_type": "code",
   "execution_count": 3,
   "metadata": {},
   "outputs": [],
   "source": [
    "LAMBDA = load_cpickle_gc('/Users/yiliwang/Documents/Berkeley MFE/AFP/lambda estimation/lambda/LAMBDA_weekly_BAC')"
   ]
  },
  {
   "cell_type": "code",
   "execution_count": 71,
   "metadata": {},
   "outputs": [],
   "source": [
    "NEWS = load_cpickle_gc('/Users/yiliwang/Documents/Berkeley MFE/AFP/lambda estimation/news dic/news_data')"
   ]
  },
  {
   "cell_type": "markdown",
   "metadata": {},
   "source": [
    "### Convert News into Binary DF with Count Threshold"
   ]
  },
  {
   "cell_type": "code",
   "execution_count": 72,
   "metadata": {},
   "outputs": [],
   "source": [
    "def binary_news(df, threshold=50):\n",
    "    df_after = df\n",
    "    for i in range(df.shape[0]):\n",
    "        for j in range(df.shape[1]):\n",
    "            df_after.iloc[i,j] = 1 if df.iloc[i,j]>=threshold else 0\n",
    "    return df_after"
   ]
  },
  {
   "cell_type": "code",
   "execution_count": 208,
   "metadata": {},
   "outputs": [],
   "source": [
    "daily_news_df = pd.DataFrame(NEWS['BAC'].sum(axis=1))\n",
    "daily_news_df = daily_news_df.rename(columns={0:\"daily news count\"})\n",
    "NEWS_binary_df = binary_news(daily_news_df, threshold=100)"
   ]
  },
  {
   "cell_type": "code",
   "execution_count": 210,
   "metadata": {},
   "outputs": [
    {
     "data": {
      "text/plain": [
       "dict_keys(['2016-01-04', '2016-01-11', '2016-01-19', '2016-01-26', '2016-02-02', '2016-02-09', '2016-02-17', '2016-02-24', '2016-03-02', '2016-03-09', '2016-03-16', '2016-03-23', '2016-03-31', '2016-04-07', '2016-04-14', '2016-04-21', '2016-04-28', '2016-05-05', '2016-05-12', '2016-05-19', '2016-05-26', '2016-06-03', '2016-06-10', '2016-06-17', '2016-06-24', '2016-07-01', '2016-07-11', '2016-07-18', '2016-07-25', '2016-08-01', '2016-08-08', '2016-08-15', '2016-08-22', '2016-08-29', '2016-09-06', '2016-09-13', '2016-09-20', '2016-09-27', '2016-10-04', '2016-10-12', '2016-10-19', '2016-10-26', '2016-11-02', '2016-11-09', '2016-11-17', '2016-11-25', '2016-12-02', '2016-12-09', '2016-12-16', '2016-12-23'])"
      ]
     },
     "execution_count": 210,
     "metadata": {},
     "output_type": "execute_result"
    }
   ],
   "source": [
    "LAMBDA.keys()"
   ]
  },
  {
   "cell_type": "code",
   "execution_count": 215,
   "metadata": {},
   "outputs": [
    {
     "data": {
      "text/html": [
       "<div>\n",
       "<style scoped>\n",
       "    .dataframe tbody tr th:only-of-type {\n",
       "        vertical-align: middle;\n",
       "    }\n",
       "\n",
       "    .dataframe tbody tr th {\n",
       "        vertical-align: top;\n",
       "    }\n",
       "\n",
       "    .dataframe thead th {\n",
       "        text-align: right;\n",
       "    }\n",
       "</style>\n",
       "<table border=\"1\" class=\"dataframe\">\n",
       "  <thead>\n",
       "    <tr style=\"text-align: right;\">\n",
       "      <th></th>\n",
       "      <th>daily news count</th>\n",
       "    </tr>\n",
       "  </thead>\n",
       "  <tbody>\n",
       "    <tr>\n",
       "      <th>2016-01-05</th>\n",
       "      <td>0.0</td>\n",
       "    </tr>\n",
       "    <tr>\n",
       "      <th>2016-01-06</th>\n",
       "      <td>1.0</td>\n",
       "    </tr>\n",
       "    <tr>\n",
       "      <th>2016-01-07</th>\n",
       "      <td>1.0</td>\n",
       "    </tr>\n",
       "    <tr>\n",
       "      <th>2016-01-08</th>\n",
       "      <td>1.0</td>\n",
       "    </tr>\n",
       "    <tr>\n",
       "      <th>2016-01-09</th>\n",
       "      <td>0.0</td>\n",
       "    </tr>\n",
       "  </tbody>\n",
       "</table>\n",
       "</div>"
      ],
      "text/plain": [
       "            daily news count\n",
       "2016-01-05               0.0\n",
       "2016-01-06               1.0\n",
       "2016-01-07               1.0\n",
       "2016-01-08               1.0\n",
       "2016-01-09               0.0"
      ]
     },
     "execution_count": 215,
     "metadata": {},
     "output_type": "execute_result"
    }
   ],
   "source": [
    "NEWS_binary_df.head()"
   ]
  },
  {
   "cell_type": "code",
   "execution_count": 216,
   "metadata": {},
   "outputs": [],
   "source": [
    "def newsAdjustedLambda_generator(news_binary_df, LAMBDA_dic):\n",
    "    adjusted_dic = {}\n",
    "    news_binary_df.index = [str(ind)[:10] for ind in news_binary_df.index]\n",
    "    \n",
    "    for date in list(LAMBDA_dic.keys()):\n",
    "        try:\n",
    "            if int(news_binary_df.T[date]) == 1:\n",
    "                adjusted_dic[str(date)[:10]] = LAMBDA_dic[str(date)[:10]]\n",
    "        except:\n",
    "            print(\"Date Missing in News Data: \", date)\n",
    "    return adjusted_dic"
   ]
  },
  {
   "cell_type": "code",
   "execution_count": 217,
   "metadata": {},
   "outputs": [
    {
     "name": "stdout",
     "output_type": "stream",
     "text": [
      "Date Missing in News Data:  2016-01-04\n"
     ]
    }
   ],
   "source": [
    "newsAdjustedLambda_dic = newsAdjustedLambda_generator(NEWS_binary_df, LAMBDA)"
   ]
  },
  {
   "cell_type": "code",
   "execution_count": 218,
   "metadata": {},
   "outputs": [
    {
     "data": {
      "text/plain": [
       "dict_keys(['2016-01-11', '2016-01-19', '2016-02-02', '2016-02-09', '2016-03-16', '2016-03-31', '2016-04-07', '2016-04-14', '2016-04-28', '2016-05-19', '2016-06-03', '2016-06-10', '2016-06-24', '2016-07-11', '2016-07-18', '2016-08-29', '2016-09-27', '2016-10-04', '2016-10-19', '2016-10-26', '2016-11-09', '2016-11-17', '2016-12-02', '2016-12-09', '2016-12-16'])"
      ]
     },
     "execution_count": 218,
     "metadata": {},
     "output_type": "execute_result"
    }
   ],
   "source": [
    "newsAdjustedLambda_dic.keys() # filtered lambda dictionary with news"
   ]
  },
  {
   "cell_type": "code",
   "execution_count": null,
   "metadata": {},
   "outputs": [],
   "source": []
  }
 ],
 "metadata": {
  "kernelspec": {
   "display_name": "Python 3",
   "language": "python",
   "name": "python3"
  },
  "language_info": {
   "codemirror_mode": {
    "name": "ipython",
    "version": 3
   },
   "file_extension": ".py",
   "mimetype": "text/x-python",
   "name": "python",
   "nbconvert_exporter": "python",
   "pygments_lexer": "ipython3",
   "version": "3.7.3"
  }
 },
 "nbformat": 4,
 "nbformat_minor": 2
}
